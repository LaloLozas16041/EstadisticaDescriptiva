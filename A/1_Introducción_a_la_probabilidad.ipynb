{
  "cells": [
    {
      "cell_type": "code",
      "execution_count": null,
      "id": "7fcf0cec",
      "metadata": {
        "id": "7fcf0cec"
      },
      "outputs": [],
      "source": [
        "import random"
      ]
    },
    {
      "cell_type": "markdown",
      "id": "e6454d2a",
      "metadata": {
        "id": "e6454d2a"
      },
      "source": [
        "## 1.1 Conceptos básicos"
      ]
    },
    {
      "cell_type": "markdown",
      "id": "aa579176",
      "metadata": {
        "id": "aa579176"
      },
      "source": [
        "¿Qué es la probabilidad?\n",
        "\n",
        "Es el área de las matemáticas que estudia o describe métodos para inferir la frecuencia con la que suceden efectos\n",
        "\n",
        "Permite cuantificar la incertidumbre en las decisiones o en los fenómenos\n",
        "\n",
        "Por ejemplo,\n",
        "\n",
        "* La probabilidad de que el día de mañana llueva\n",
        "* La probabilidad de que una acción suba o baje\n",
        "* La probabilidad de éxito de un tratamiento\n"
      ]
    },
    {
      "cell_type": "markdown",
      "id": "ea3c5c9b",
      "metadata": {
        "id": "ea3c5c9b"
      },
      "source": [
        "Experimento\n",
        "\n",
        "Es un fenómeno del cuál conocemos sus resultados posibles, pero no podemos saber cuál de ellos va a ocurrir.\n",
        "\n",
        "Por ejemplo:\n",
        "\n",
        "* ¿Hay o no hay un sismo en la CDMX?\n",
        "* Degustación de café a 50 personas. Los resultados posibles serían, por ejemplo, el número de personas a las que les gusta el café\n",
        "* El precio del dólar el día de mañana"
      ]
    },
    {
      "cell_type": "markdown",
      "id": "b6014192",
      "metadata": {
        "id": "b6014192"
      },
      "source": [
        "Al conjunto de resultados posibles de un experimento le llamamos **espacio muestral**\n",
        "\n",
        "Un **evento** es un subconjunto de resultados dentro del espacio muestral\n",
        "\n",
        "Por ejemplo,\n",
        "\n",
        "* Supongamos que estamos interesados en cuántas victorias tendrás Los Dodgers en la temporada de N partidos. El espacio muestral es el conjunto de resultados posibles, es decir, {0, 1, 2, ..., N}. Un evento, dentro del espacio muestral es que tengan más de 50 victorias {51, 52, ..., N}\n",
        "\n",
        "* El número de clientes dentro de una tienda en una semana. El espacio muestral es el conjunto de todos los números naturales. Un evento puede ser el que el número de clientes sea menor al de la semana pasada.\n",
        "\n",
        "Los eventos pueden ser **mutuamente excluyentes**. Esto quiere decir que no pueden ocurrir al mismo tiempo.\n",
        "\n",
        "Por ejemplo,\n",
        "\n",
        "* Estamos preguntando a un grupo de personas su nacionalidad. El espacio muestral es el conjunto de todas las nacionalidades en el mundo. Consideremos dos eventos, A: El evento que Juan sea mexicano, B: el evento que Juan sea Canadiense. Es evidente que A y B no pueden ocurrir al mismo tiempo (no consideremos naturalizaciones). Al contrario, C: Carlos es mexicano, D: Daniel es español, C y D si pueden ocurrir al mismo tiempo."
      ]
    },
    {
      "cell_type": "markdown",
      "id": "f13f52c3",
      "metadata": {
        "id": "f13f52c3"
      },
      "source": [
        "## 1.2 Axiomas de probabilidad"
      ]
    },
    {
      "cell_type": "markdown",
      "id": "37fc794f",
      "metadata": {
        "id": "37fc794f"
      },
      "source": [
        "1. La probabilidad de un evento siempre está entre 0 y 1.\n",
        "\n",
        "2. La probabilidad del espacio muestral es 1, se le conoce como el evento seguro. Por otro lado, el evento imposible tiene probabilidad 0.\n",
        "\n",
        "Ejemplo:\n",
        "\n",
        "Si consideramos el experimento que consiste en cuantificar las ganancias durante un año de una empresa, el espacio muestral es el conjunto de los números reales.\n",
        "\n",
        "Al hablar de la probabilidad del espacio muestral hablamos de la probabilidad de que la empresa tenga una ganancia (independientemente si es negativa o positiva), la cual es 1.\n",
        "\n",
        "Otro ejemplo:\n",
        "\n",
        "Consideremos que estamos midiendo la altura de una persona. El espacio muestral es el conjunto de los reales positivos. Entonces, la probabilidad de que la altura sea mayor o igual que 0, es 1. Ese es el evento seguro. El evento imposible es que la altura sea negativa, y eso ocurre con probabilidad 0.\n",
        "\n",
        "3. Si consideramos una sucesión infinita de eventos mutuamente excluyentes, entonces la probabilidad de que al menos uno de esos eventos ocurra es igual a la suma de las probabilidades individuales."
      ]
    },
    {
      "cell_type": "markdown",
      "id": "d76a9af7",
      "metadata": {
        "id": "d76a9af7"
      },
      "source": [
        "Cuando trabajamos con eventos, podemos hablar de tres operaciones principales:\n",
        "\n",
        "1. Union de eventos: Quiere decir, que al menos uno de los eventos ocurre.\n",
        "Por ejemplo, si tengo dos eventos: A: el día de mañana llueve, B: el día de mañana está nublado. La unión ocurre si el día de mañana llueve o está nublado.\n",
        "\n",
        "2. Intersección de eventos: Quiere decir que los dos eventos ocurren simultáneamente\n",
        "Por ejemplo, considerando los eventos anteriores, la intersección ocurre si el día de mañana llueve y además está nublado.\n",
        "Para los eventos mutuamente excluyentes, no existe la intersección, o se dice que es el conjunto vacío\n",
        "\n",
        "3. El complemento. El complemento de un evento, son todos los resultados que no están dentro del evento pero sí en el espacio muestral.\n",
        "Por ejemplo, en el evento A: el precio del dolar es menor a 18 pesos, el complemento será: el dólar es mayor o igual a 18 pesos."
      ]
    },
    {
      "cell_type": "markdown",
      "id": "8771f7a8",
      "metadata": {
        "id": "8771f7a8"
      },
      "source": [
        "## 1.3 Probabilidad clásica (frecuentista)"
      ]
    },
    {
      "cell_type": "markdown",
      "id": "2f9dbf65",
      "metadata": {
        "id": "2f9dbf65"
      },
      "source": [
        "La probabilidad clásica nos dice que la probabilidad de un evento se calcula como:\n",
        "  \n",
        "$$P(A) = \\frac{\\text{número de resultados favorables}}{\\text{número de resultados totales}}$$"
      ]
    },
    {
      "cell_type": "markdown",
      "id": "dba8e73d",
      "metadata": {
        "id": "dba8e73d"
      },
      "source": [
        "A: El Real Madrid consigue más de 80 puntos en la siguiente temporada.\n",
        "\n",
        "Una forma de calcular la probabilidad, es utilizando la historia. El número de resultados totales consiste en contar de todas las temporadas (bajo las mismas condiciones que la siguiente temporada). Los resultados favorables serán aquellas temporadas donde el Real Madrid consiguió más de 80 puntos.\n",
        "\n",
        "Por ejemplo, si hay 50 temporadas, y en 37 de ellas el Real Madrid consiguió más de 80 puntos, entonces la probabilidad será:\n",
        "\n",
        "$$P(A)=\\frac{37}{50}$$\n"
      ]
    },
    {
      "cell_type": "markdown",
      "id": "cbbfaf77",
      "metadata": {
        "id": "cbbfaf77"
      },
      "source": [
        "Cuál es la probabilidad de que un tramiento contra la caída del cabello tenga éxito.\n",
        "\n",
        "Una forma de estimar la probabilidad es aplicar el tratamiento a 100 personas. Si de esas 100 personas, 60 tuvieron resultados exitosos, la probabilidad de éxito del tratamiento será de $0.6$\n",
        "\n",
        "Para una mejor estimación de la probabilidad, el número de personas en la prueba debería ser muy grande."
      ]
    },
    {
      "cell_type": "code",
      "execution_count": null,
      "id": "5797b119",
      "metadata": {
        "id": "5797b119",
        "outputId": "b2f5d360-8e57-49a0-d653-7948c0ac3d69"
      },
      "outputs": [
        {
          "name": "stdout",
          "output_type": "stream",
          "text": [
            "La probabilidad de cara es: 0.49568\n"
          ]
        }
      ],
      "source": [
        "## El tamaño de una muestra garantiza mayor precisión en las estimaciones\n",
        "\n",
        "## Simulemos el lanzamiento de una moneda.\n",
        "M = 50000\n",
        "suma = 0\n",
        "for i in range(0,M):\n",
        "    suma = suma + random.randint(0,1)\n",
        "\n",
        "p = suma/M\n",
        "print('La probabilidad de cara es:',p)"
      ]
    },
    {
      "cell_type": "markdown",
      "id": "93e74430",
      "metadata": {
        "id": "93e74430"
      },
      "source": [
        "## 1.4 Probabilidad Condicional"
      ]
    },
    {
      "cell_type": "markdown",
      "id": "f29ff3ec",
      "metadata": {
        "id": "f29ff3ec"
      },
      "source": [
        "Imaginen que están midiendo el número de ventas de un celular en la semana.\n",
        "\n",
        "Supongan, que en las primeras 10 semanas del año, en cada semana se vendieron alrededor de 125 celulares. Pero saben que en Navidad las ventas se duplican.\n",
        "\n",
        "Si calculan la probabilidad de que las ventas de una semana (cualquier semana) sean mayores a 150, seguramente la probabilidad rondaría entre 0.3\n",
        "\n",
        "Pero imaginen que tienen un dato adicional, que la semana que quieren estudiar es una semana en la cual cae Navidad. ¿Cómo será la probabilidad? Seguramente rondaría en 0.7"
      ]
    },
    {
      "cell_type": "markdown",
      "id": "47f5d79a",
      "metadata": {
        "id": "47f5d79a"
      },
      "source": [
        "La probabilidad condicional consiste en agregar información adicional al cálculo de nuestras probabilidades marginales.\n",
        "\n",
        "Es importante, contar con la mayor cantidad de información cuando hacemos una estimación de probabilidades."
      ]
    },
    {
      "cell_type": "markdown",
      "id": "e9b38062",
      "metadata": {
        "id": "e9b38062"
      },
      "source": [
        "La fórmula para calcular probabilidad condicional es:\n",
        "\n",
        "$$ P(A|B) = \\frac{P(A\\cap B)}{P(B)} = \\frac{P(B|A)P(A)}{P(B)}$$"
      ]
    },
    {
      "cell_type": "markdown",
      "id": "b1ce5031",
      "metadata": {
        "id": "b1ce5031"
      },
      "source": [
        "Se está realizando una prueba de COVID en una empresa pues hay un brote debido a una reunión que se celebro en navidad y a la que fue el 70% de la empresa. Se sabe que de la empresa, el 30% de las personas están enfermas y fueron a la reunión. Entonces, cuál es la probabilidad de que un empleado sea positivo si sabemos que asistió a la reunión\n",
        "A: Está enfermo\n",
        "B: Fue a la reunión\n",
        "\n",
        "$$P(A|B) = \\frac{P(A\\cap B)}{P(B)} = \\frac{0.3}{0.7} = \\frac{3}{7}$$"
      ]
    },
    {
      "cell_type": "markdown",
      "id": "c57138a2",
      "metadata": {
        "id": "c57138a2"
      },
      "source": [
        "Consideremos que en una empresa hay tres empleados, A trabajó un 60% del tiempo, B trabajó un 30% del tiempo y C trabajó un 10% del tiempo. Ustedes, como gerente, tratan de investigar quién cometió un robo dentro de la empresa. Si solo se guiaran por el tiempo en que trabajó cada empleado, sería fácil señalar al empleado A pues es más probable que el haya cometido el robo pues estuvo más tiempo dentro de la empresa.\n",
        "\n",
        "Luego de investigaciones, el gerente se da cuenta que fue un error de inventario y por ello A menciona que es necesario revisar el desempeño de cada trabajador, A se equivocó en un 0.5 de las veces, B se equivoca en un 0.1 de las veces y C se equivoca en un 0.7 de las veces.\n",
        "\n",
        "A: El empleado A fue el detonante del robo\n",
        "M: El error fue de inventario\n",
        "\n",
        "Al inicio, suponiamos que P(A) = 0.6, P(B) = 0.3, P(C) = 0.1\n",
        "Con la información nueva, es necesario recalcular las probabilidades\n",
        "\n",
        "* P(A|M) = P(M|A)P(A)/P(M)\n",
        "* P(B|M) = P(M|B)P(B)/P(M)\n",
        "* P(C|M) = P(M|C)P(C)/P(M)\n",
        "\n",
        "Nos falta estimar la probabilidad de que el error sea de inventario, pero asumamos que en la compañía se tiene una probabilidad de errores de inventario de 0.05\n",
        "\n",
        "* P(A|M) = (0.05)(0.6)/(0.05)\n",
        "* P(B|M) = (0.01)(0.3)/(0.05)\n",
        "* P(C|M) = (0.07)(0.1)/(0.05)"
      ]
    },
    {
      "cell_type": "code",
      "execution_count": null,
      "id": "33fe6fbe",
      "metadata": {
        "id": "33fe6fbe"
      },
      "outputs": [],
      "source": [
        "pa = (0.5)*(0.6)/(0.05)\n",
        "pb = (0.1)*(0.3)/(0.05)\n",
        "pc = (0.7)*(0.1)/(0.05)"
      ]
    },
    {
      "cell_type": "code",
      "execution_count": null,
      "id": "50a9633f",
      "metadata": {
        "id": "50a9633f",
        "outputId": "dce5a0ec-a59a-4ef4-e32e-a5b9a4b8af6c"
      },
      "outputs": [
        {
          "name": "stdout",
          "output_type": "stream",
          "text": [
            "La probabilidad de que A haya sido es: 5.999999999999999\n",
            "La probabilidad de que B haya sido es: 0.6\n",
            "La probabilidad de que C haya sido es: 1.3999999999999997\n"
          ]
        }
      ],
      "source": [
        "print('La probabilidad de que A haya sido es:',pa)\n",
        "print('La probabilidad de que B haya sido es:',pb)\n",
        "print('La probabilidad de que C haya sido es:',pc)"
      ]
    },
    {
      "cell_type": "markdown",
      "id": "be0f3163",
      "metadata": {
        "id": "be0f3163"
      },
      "source": [
        "## 1.5 Teorema de Bayes"
      ]
    },
    {
      "cell_type": "markdown",
      "id": "13c8e7e5",
      "metadata": {
        "id": "13c8e7e5"
      },
      "source": [
        "Sean $B_1, B_2, ..., B_n$ eventos mutuamente excluyentes y además su unión es igual al espacio muestral (es un partición) y sea A un evento que tiene probabilidad mayor a 0.\n",
        "\n",
        "El teorema de Bayes establece lo siguiente:\n",
        "\n",
        "$$P(B_k|A) = \\frac{P(B_k)P(A|B_k)}{\\sum{P(B_i)P(A|B_i)}}$$"
      ]
    },
    {
      "cell_type": "markdown",
      "id": "4a4b3954",
      "metadata": {
        "id": "4a4b3954"
      },
      "source": [
        "Un ejemplo de una partición, es dividir a los alumnos en una escuela en \"Reprobados\" y \"Aprobados\"\n",
        "Otro ejemplo de partición son las ventas de una tienda, B1 = Las ventas fueron mayores a la semana pasada, B2 = Las ventas fueron iguales a la semana pasada y B3 = Las ventas fueron menores a la semana pasada."
      ]
    },
    {
      "cell_type": "markdown",
      "id": "c57c9dab",
      "metadata": {
        "id": "c57c9dab"
      },
      "source": [
        "Ejemplo:\n",
        "\n",
        "Consideremos que una prueba de sangre en un laboratorio es 95% precisa para detectar una enfermedad. Además, la prueba da un falso positivo del 1%. Si el 0.5% de la población tiene la enfermedad, cuál es la probabilidad que una persona que dio positivo tenga realmente la enfermedad.\n",
        "\n",
        "* A: La persona tiene la enfermedad\n",
        "* T: La persona dio positivo en la prueba\n",
        "\n",
        "$$P(A|T) = \\frac{P(T|A)P(A)}{P(T)} = \\frac{P(T|A)P(A)}{P(T|A)P(A) + P(T|A^c)P(A^c)}$$\n",
        "$$P(A|T) = \\frac{(0.95)(0.005)}{(0.95)(0.005)+(0.01)(0.995)}$$\n",
        "$$P(A|T) = 0.3231$$"
      ]
    },
    {
      "cell_type": "code",
      "execution_count": null,
      "id": "5fdd131f",
      "metadata": {
        "id": "5fdd131f"
      },
      "outputs": [],
      "source": []
    }
  ],
  "metadata": {
    "kernelspec": {
      "display_name": "Python 3 (ipykernel)",
      "language": "python",
      "name": "python3"
    },
    "language_info": {
      "codemirror_mode": {
        "name": "ipython",
        "version": 3
      },
      "file_extension": ".py",
      "mimetype": "text/x-python",
      "name": "python",
      "nbconvert_exporter": "python",
      "pygments_lexer": "ipython3",
      "version": "3.10.6"
    },
    "colab": {
      "provenance": []
    }
  },
  "nbformat": 4,
  "nbformat_minor": 5
}